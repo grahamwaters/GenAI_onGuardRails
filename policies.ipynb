{
 "cells": [
  {
   "cell_type": "code",
   "execution_count": 9,
   "metadata": {},
   "outputs": [],
   "source": [
    "# To download the latest copies of OpenAI's policies, run the following cell:\n",
    "# https://openai.com/policies/service-terms\n",
    "# try to find all subpages of the policies page\n",
    "# https://openai.com/policies/\n",
    "import requests\n",
    "from bs4 import BeautifulSoup\n",
    "import re\n",
    "import os\n",
    "\n",
    "open_ai_url = 'https://openai.com'\n",
    "base_url = 'https://openai.com/policies/'\n",
    "# find all subpages of the policies page\n",
    "response = requests.get(base_url)\n",
    "soup = BeautifulSoup(response.text, 'html.parser')\n",
    "links = soup.find_all('a', href=True)\n",
    "subpages = []\n",
    "for link in links:\n",
    "    if link['href'].startswith('/policies/'):\n",
    "        subpages.append(link['href'])\n",
    "# download all subpages of the policies page\n",
    "for subpage in subpages:\n",
    "    # replace policies//policies with policies/\n",
    "    subpage_text = str(subpage)\n",
    "    subpage = re.sub(r'policies//policies', r'policies/', subpage_text)\n",
    "    # open the subpage and save the text to a file with the same name\n",
    "    response = requests.get(base_url + subpage)\n",
    "    soup = BeautifulSoup(response.text, 'html.parser')\n",
    "    with open(os.path.join('policies', subpage[10:]), 'w') as f:\n",
    "        # write the url first\n",
    "        f.write(open_ai_url + subpage + '\\n')\n",
    "        f.write(soup.text)\n",
    "\n",
    "# Path: policies/policies.ipynb"
   ]
  },
  {
   "attachments": {},
   "cell_type": "markdown",
   "metadata": {},
   "source": [
    "# brand Policies"
   ]
  },
  {
   "cell_type": "code",
   "execution_count": 14,
   "metadata": {},
   "outputs": [],
   "source": [
    "# To download the latest copies of OpenAI's policies, run the following cell:\n",
    "# try to find all subpages of the brand page\n",
    "# https://openai.com/brand/\n",
    "import requests\n",
    "from bs4 import BeautifulSoup\n",
    "import re\n",
    "import os\n",
    "\n",
    "open_ai_url = 'https://openai.com'\n",
    "base_url = 'https://openai.com/brand'\n",
    "# find all subpages of the policies page\n",
    "response = requests.get(base_url)\n",
    "soup = BeautifulSoup(response.text, 'html.parser')\n",
    "links = soup.find_all('a', href=True)\n",
    "subpages = []\n",
    "for link in links:\n",
    "    if link['href'].startswith('/brand/'):\n",
    "        subpages.append(link['href'])\n",
    "# download all subpages of the policies page\n",
    "for subpage in subpages:\n",
    "    print(subpage)\n",
    "    # replace policies//policies with policies/\n",
    "    subpage_text = str(subpage)\n",
    "    subpage = re.sub(r'brand//brand', r'brand/', subpage_text)\n",
    "    # open the subpage and save the text to a file with the same name\n",
    "    response = requests.get(base_url + subpage)\n",
    "    soup = BeautifulSoup(response.text, 'html.parser')\n",
    "    with open(os.path.join('brand', subpage[10:]), 'w') as f:\n",
    "        # write the url first\n",
    "        f.write(open_ai_url + subpage + '\\n')\n",
    "        f.write(soup.text)\n",
    "\n",
    "# Path: policies/policies.ipynb"
   ]
  }
 ],
 "metadata": {
  "kernelspec": {
   "display_name": "Python 3",
   "language": "python",
   "name": "python3"
  },
  "language_info": {
   "codemirror_mode": {
    "name": "ipython",
    "version": 3
   },
   "file_extension": ".py",
   "mimetype": "text/x-python",
   "name": "python",
   "nbconvert_exporter": "python",
   "pygments_lexer": "ipython3",
   "version": "3.10.9"
  },
  "orig_nbformat": 4
 },
 "nbformat": 4,
 "nbformat_minor": 2
}
