{
 "cells": [
  {
   "cell_type": "code",
   "execution_count": 27,
   "metadata": {},
   "outputs": [
    {
     "name": "stdout",
     "output_type": "stream",
     "text": [
      "  \u001b[1;31merror\u001b[0m: \u001b[1msubprocess-exited-with-error\u001b[0m\n",
      "  \n",
      "  \u001b[31m×\u001b[0m \u001b[32mpython setup.py egg_info\u001b[0m did not run successfully.\n",
      "  \u001b[31m│\u001b[0m exit code: \u001b[1;36m1\u001b[0m\n",
      "  \u001b[31m╰─>\u001b[0m \u001b[31m[1 lines of output]\u001b[0m\n",
      "  \u001b[31m   \u001b[0m error in anonympy setup command: 'python_requires' must be a string containing valid version specifiers; Invalid specifier: '>=3.6*'\n",
      "  \u001b[31m   \u001b[0m \u001b[31m[end of output]\u001b[0m\n",
      "  \n",
      "  \u001b[1;35mnote\u001b[0m: This error originates from a subprocess, and is likely not a problem with pip.\n",
      "\u001b[1;31merror\u001b[0m: \u001b[1mmetadata-generation-failed\u001b[0m\n",
      "\n",
      "\u001b[31m×\u001b[0m Encountered error while generating package metadata.\n",
      "\u001b[31m╰─>\u001b[0m See above for output.\n",
      "\n",
      "\u001b[1;35mnote\u001b[0m: This is an issue with the package mentioned above, not pip.\n",
      "\u001b[1;36mhint\u001b[0m: See above for details.\n",
      "Collecting en-core-web-lg==3.5.0\n",
      "  Downloading https://github.com/explosion/spacy-models/releases/download/en_core_web_lg-3.5.0/en_core_web_lg-3.5.0-py3-none-any.whl (587.7 MB)\n",
      "\u001b[2K     \u001b[91m━━━━━━━━━\u001b[0m\u001b[90m╺\u001b[0m\u001b[90m━━━━━━━━━━━━━━━━━━━━━━━━━━━━\u001b[0m \u001b[32m144.3/587.7 MB\u001b[0m \u001b[31m45.2 MB/s\u001b[0m eta \u001b[36m0:00:10\u001b[0m\n",
      "\u001b[?25h\u001b[31mERROR: Exception:\n",
      "Traceback (most recent call last):\n",
      "  File \"/Users/grahamwaters/Movies/GenAI_onRails/.conda/lib/python3.10/site-packages/pip/_vendor/urllib3/response.py\", line 438, in _error_catcher\n",
      "    yield\n",
      "  File \"/Users/grahamwaters/Movies/GenAI_onRails/.conda/lib/python3.10/site-packages/pip/_vendor/urllib3/response.py\", line 561, in read\n",
      "    data = self._fp_read(amt) if not fp_closed else b\"\"\n",
      "  File \"/Users/grahamwaters/Movies/GenAI_onRails/.conda/lib/python3.10/site-packages/pip/_vendor/urllib3/response.py\", line 527, in _fp_read\n",
      "    return self._fp.read(amt) if amt is not None else self._fp.read()\n",
      "  File \"/Users/grahamwaters/Movies/GenAI_onRails/.conda/lib/python3.10/site-packages/pip/_vendor/cachecontrol/filewrapper.py\", line 94, in read\n",
      "    self.__buf.write(data)\n",
      "  File \"/Users/grahamwaters/Movies/GenAI_onRails/.conda/lib/python3.10/tempfile.py\", line 483, in func_wrapper\n",
      "    return func(*args, **kwargs)\n",
      "OSError: [Errno 28] No space left on device\n",
      "\n",
      "During handling of the above exception, another exception occurred:\n",
      "\n",
      "Traceback (most recent call last):\n",
      "  File \"/Users/grahamwaters/Movies/GenAI_onRails/.conda/lib/python3.10/site-packages/pip/_internal/cli/base_command.py\", line 169, in exc_logging_wrapper\n",
      "    status = run_func(*args)\n",
      "  File \"/Users/grahamwaters/Movies/GenAI_onRails/.conda/lib/python3.10/site-packages/pip/_internal/cli/req_command.py\", line 248, in wrapper\n",
      "    return func(self, options, args)\n",
      "  File \"/Users/grahamwaters/Movies/GenAI_onRails/.conda/lib/python3.10/site-packages/pip/_internal/commands/install.py\", line 377, in run\n",
      "    requirement_set = resolver.resolve(\n",
      "  File \"/Users/grahamwaters/Movies/GenAI_onRails/.conda/lib/python3.10/site-packages/pip/_internal/resolution/resolvelib/resolver.py\", line 73, in resolve\n",
      "    collected = self.factory.collect_root_requirements(root_reqs)\n",
      "  File \"/Users/grahamwaters/Movies/GenAI_onRails/.conda/lib/python3.10/site-packages/pip/_internal/resolution/resolvelib/factory.py\", line 491, in collect_root_requirements\n",
      "    req = self._make_requirement_from_install_req(\n",
      "  File \"/Users/grahamwaters/Movies/GenAI_onRails/.conda/lib/python3.10/site-packages/pip/_internal/resolution/resolvelib/factory.py\", line 453, in _make_requirement_from_install_req\n",
      "    cand = self._make_candidate_from_link(\n",
      "  File \"/Users/grahamwaters/Movies/GenAI_onRails/.conda/lib/python3.10/site-packages/pip/_internal/resolution/resolvelib/factory.py\", line 206, in _make_candidate_from_link\n",
      "    self._link_candidate_cache[link] = LinkCandidate(\n",
      "  File \"/Users/grahamwaters/Movies/GenAI_onRails/.conda/lib/python3.10/site-packages/pip/_internal/resolution/resolvelib/candidates.py\", line 293, in __init__\n",
      "    super().__init__(\n",
      "  File \"/Users/grahamwaters/Movies/GenAI_onRails/.conda/lib/python3.10/site-packages/pip/_internal/resolution/resolvelib/candidates.py\", line 156, in __init__\n",
      "    self.dist = self._prepare()\n",
      "  File \"/Users/grahamwaters/Movies/GenAI_onRails/.conda/lib/python3.10/site-packages/pip/_internal/resolution/resolvelib/candidates.py\", line 225, in _prepare\n",
      "    dist = self._prepare_distribution()\n",
      "  File \"/Users/grahamwaters/Movies/GenAI_onRails/.conda/lib/python3.10/site-packages/pip/_internal/resolution/resolvelib/candidates.py\", line 304, in _prepare_distribution\n",
      "    return preparer.prepare_linked_requirement(self._ireq, parallel_builds=True)\n",
      "  File \"/Users/grahamwaters/Movies/GenAI_onRails/.conda/lib/python3.10/site-packages/pip/_internal/operations/prepare.py\", line 516, in prepare_linked_requirement\n",
      "    return self._prepare_linked_requirement(req, parallel_builds)\n",
      "  File \"/Users/grahamwaters/Movies/GenAI_onRails/.conda/lib/python3.10/site-packages/pip/_internal/operations/prepare.py\", line 587, in _prepare_linked_requirement\n",
      "    local_file = unpack_url(\n",
      "  File \"/Users/grahamwaters/Movies/GenAI_onRails/.conda/lib/python3.10/site-packages/pip/_internal/operations/prepare.py\", line 166, in unpack_url\n",
      "    file = get_http_url(\n",
      "  File \"/Users/grahamwaters/Movies/GenAI_onRails/.conda/lib/python3.10/site-packages/pip/_internal/operations/prepare.py\", line 107, in get_http_url\n",
      "    from_path, content_type = download(link, temp_dir.path)\n",
      "  File \"/Users/grahamwaters/Movies/GenAI_onRails/.conda/lib/python3.10/site-packages/pip/_internal/network/download.py\", line 147, in __call__\n",
      "    for chunk in chunks:\n",
      "  File \"/Users/grahamwaters/Movies/GenAI_onRails/.conda/lib/python3.10/site-packages/pip/_internal/cli/progress_bars.py\", line 53, in _rich_progress_bar\n",
      "    for chunk in iterable:\n",
      "  File \"/Users/grahamwaters/Movies/GenAI_onRails/.conda/lib/python3.10/site-packages/pip/_internal/network/utils.py\", line 63, in response_chunks\n",
      "    for chunk in response.raw.stream(\n",
      "  File \"/Users/grahamwaters/Movies/GenAI_onRails/.conda/lib/python3.10/site-packages/pip/_vendor/urllib3/response.py\", line 622, in stream\n",
      "    data = self.read(amt=amt, decode_content=decode_content)\n",
      "  File \"/Users/grahamwaters/Movies/GenAI_onRails/.conda/lib/python3.10/site-packages/pip/_vendor/urllib3/response.py\", line 560, in read\n",
      "    with self._error_catcher():\n",
      "  File \"/Users/grahamwaters/Movies/GenAI_onRails/.conda/lib/python3.10/contextlib.py\", line 153, in __exit__\n",
      "    self.gen.throw(typ, value, traceback)\n",
      "  File \"/Users/grahamwaters/Movies/GenAI_onRails/.conda/lib/python3.10/site-packages/pip/_vendor/urllib3/response.py\", line 455, in _error_catcher\n",
      "    raise ProtocolError(\"Connection broken: %r\" % e, e)\n",
      "pip._vendor.urllib3.exceptions.ProtocolError: (\"Connection broken: OSError(28, 'No space left on device')\", OSError(28, 'No space left on device'))\u001b[0m\u001b[31m\n",
      "\u001b[0mCloning into 'open-data-anonimizer'...\n",
      "remote: Enumerating objects: 3112, done.\u001b[K\n",
      "remote: Counting objects: 100% (3112/3112), done.\u001b[K\n",
      "remote: Compressing objects: 100% (1467/1467), done.\u001b[K\n",
      "remote: Total 3112 (delta 1570), reused 3076 (delta 1550), pack-reused 0\u001b[K\n",
      "Receiving objects: 100% (3112/3112), 41.13 MiB | 17.04 MiB/s, done.\n",
      "Resolving deltas: 100% (1570/1570), done.\n",
      "Updating files: 100% (671/671), done.\n",
      "\u001b[31mERROR: Could not open requirements file: [Errno 2] No such file or directory: 'requirements.txt'\u001b[0m\u001b[31m\n",
      "\u001b[0mmake: *** No rule to make target `bootstrap'.  Stop.\n",
      "Collecting cape-privacy==0.3.0\n",
      "  Downloading cape_privacy-0.3.0-py3-none-any.whl (48 kB)\n",
      "\u001b[2K     \u001b[90m━━━━━━━━━━━━━━━━━━━━━━━━━━━━━━━━━━━━━━━\u001b[0m \u001b[32m48.1/48.1 kB\u001b[0m \u001b[31m857.3 kB/s\u001b[0m eta \u001b[36m0:00:00\u001b[0m \u001b[36m0:00:01\u001b[0m\n",
      "\u001b[?25hInstalling collected packages: cape-privacy\n",
      "Successfully installed cape-privacy-0.3.0\n"
     ]
    }
   ],
   "source": [
    "!pip install html_sanitizer --quiet\n",
    "!pip install validators --quiet\n",
    "!pip install nltk --quiet\n",
    "!pip install faker --quiet\n",
    "!pip install presidio_analyzer --quiet\n",
    "!pip install langdetect --quiet\n",
    "!pip install spacy --quiet\n",
    "# !pip install presidio-analyzer\n",
    "!pip install anonympy --quiet\n",
    "!python -m spacy download en_core_web_lg\n",
    "!python setup.py "
   ]
  },
  {
   "cell_type": "markdown",
   "metadata": {},
   "source": [
    "from presidio_analyzer import AnalyzerEngine\n",
    "\n",
    "# Make sure we have downloaded the spaCy model\n",
    "import spacy\n",
    "try:\n",
    "    spacy.load('en_core_web_lg')\n",
    "except OSError:\n",
    "    import os\n",
    "    os.system('python -m spacy download en_core_web_lg')\n",
    "    spacy.load('en_core_web_lg')\n",
    "# Set up the engine, loads the NLP module (spaCy model by default) and other PII recognizers\n",
    "analyzer = AnalyzerEngine()\n",
    "\n",
    "# Call analyzer to get results\n",
    "results = analyzer.analyze(text=\"My phone number is 212-555-5555\",\n",
    "                           entities=[\"PHONE_NUMBER\"],\n",
    "                           language='en')\n",
    "print(results)"
   ]
  },
  {
   "cell_type": "code",
   "execution_count": 26,
   "metadata": {},
   "outputs": [
    {
     "name": "stdout",
     "output_type": "stream",
     "text": [
      "Collecting anonympy\n",
      "  Using cached anonympy-0.3.7.tar.gz (5.8 MB)\n",
      "  Preparing metadata (setup.py) ... \u001b[?25lerror\n",
      "  \u001b[1;31merror\u001b[0m: \u001b[1msubprocess-exited-with-error\u001b[0m\n",
      "  \n",
      "  \u001b[31m×\u001b[0m \u001b[32mpython setup.py egg_info\u001b[0m did not run successfully.\n",
      "  \u001b[31m│\u001b[0m exit code: \u001b[1;36m1\u001b[0m\n",
      "  \u001b[31m╰─>\u001b[0m \u001b[31m[1 lines of output]\u001b[0m\n",
      "  \u001b[31m   \u001b[0m error in anonympy setup command: 'python_requires' must be a string containing valid version specifiers; Invalid specifier: '>=3.6*'\n",
      "  \u001b[31m   \u001b[0m \u001b[31m[end of output]\u001b[0m\n",
      "  \n",
      "  \u001b[1;35mnote\u001b[0m: This error originates from a subprocess, and is likely not a problem with pip.\n",
      "\u001b[?25h\u001b[1;31merror\u001b[0m: \u001b[1mmetadata-generation-failed\u001b[0m\n",
      "\n",
      "\u001b[31m×\u001b[0m Encountered error while generating package metadata.\n",
      "\u001b[31m╰─>\u001b[0m See above for output.\n",
      "\n",
      "\u001b[1;35mnote\u001b[0m: This is an issue with the package mentioned above, not pip.\n",
      "\u001b[1;36mhint\u001b[0m: See above for details.\n"
     ]
    }
   ],
   "source": [
    "!pip install cape-privacy==0.3.0 --no-deps "
   ]
  },
  {
   "cell_type": "code",
   "execution_count": 24,
   "metadata": {},
   "outputs": [
    {
     "ename": "ModuleNotFoundError",
     "evalue": "No module named 'anonympy'",
     "output_type": "error",
     "traceback": [
      "\u001b[0;31m---------------------------------------------------------------------------\u001b[0m",
      "\u001b[0;31mModuleNotFoundError\u001b[0m                       Traceback (most recent call last)",
      "Cell \u001b[0;32mIn[24], line 7\u001b[0m\n\u001b[1;32m      5\u001b[0m \u001b[39mfrom\u001b[39;00m \u001b[39mlangdetect\u001b[39;00m \u001b[39mimport\u001b[39;00m detect\n\u001b[1;32m      6\u001b[0m \u001b[39mimport\u001b[39;00m \u001b[39mspacy\u001b[39;00m\n\u001b[0;32m----> 7\u001b[0m \u001b[39mfrom\u001b[39;00m \u001b[39manonympy\u001b[39;00m\u001b[39m.\u001b[39;00m\u001b[39mpandas\u001b[39;00m \u001b[39mimport\u001b[39;00m dfAnonymizer\n\u001b[1;32m      8\u001b[0m \u001b[39mfrom\u001b[39;00m \u001b[39manonympy\u001b[39;00m\u001b[39m.\u001b[39;00m\u001b[39mpandas\u001b[39;00m\u001b[39m.\u001b[39;00m\u001b[39mutils_pandas\u001b[39;00m \u001b[39mimport\u001b[39;00m load_dataset\n\u001b[1;32m      9\u001b[0m \u001b[39m#todo make a fake dataset with fake names using faker\u001b[39;00m\n",
      "\u001b[0;31mModuleNotFoundError\u001b[0m: No module named 'anonympy'"
     ]
    }
   ],
   "source": [
    "from html_sanitizer import Sanitizer\n",
    "from validators import url\n",
    "from faker import Faker\n",
    "from presidio_analyzer import AnalyzerEngine, PatternRecognizer\n",
    "from langdetect import detect\n",
    "import spacy\n",
    "from anonympy.pandas import dfAnonymizer\n",
    "from anonympy.pandas.utils_pandas import load_dataset\n",
    "#todo make a fake dataset with fake names using faker\n",
    "anonym = dfAnonymizer(df)\n",
    "anonym.anonymize_dataframe(inplace = False)  # inplace = False to return a new dataframe, inplace = True to modify the original dataframe\n"
   ]
  },
  {
   "cell_type": "code",
   "execution_count": 23,
   "metadata": {},
   "outputs": [
    {
     "ename": "ModuleNotFoundError",
     "evalue": "No module named 'anonympy'",
     "output_type": "error",
     "traceback": [
      "\u001b[0;31m---------------------------------------------------------------------------\u001b[0m",
      "\u001b[0;31mModuleNotFoundError\u001b[0m                       Traceback (most recent call last)",
      "Cell \u001b[0;32mIn[23], line 2\u001b[0m\n\u001b[1;32m      1\u001b[0m \u001b[39m# Or applying a specific anonymization technique to a column\u001b[39;00m\n\u001b[0;32m----> 2\u001b[0m \u001b[39mfrom\u001b[39;00m \u001b[39manonympy\u001b[39;00m\u001b[39m.\u001b[39;00m\u001b[39mpandas\u001b[39;00m\u001b[39m.\u001b[39;00m\u001b[39mutils_pandas\u001b[39;00m \u001b[39mimport\u001b[39;00m available_methods\n\u001b[1;32m      4\u001b[0m anonym\u001b[39m.\u001b[39mcategorical_columns\n\u001b[1;32m      5\u001b[0m \u001b[39m# ... ['name', 'web', 'email', 'ssn']\u001b[39;00m\n",
      "\u001b[0;31mModuleNotFoundError\u001b[0m: No module named 'anonympy'"
     ]
    }
   ],
   "source": [
    "# Or applying a specific anonymization technique to a column\n",
    "from anonympy.pandas.utils_pandas import available_methods\n",
    "\n",
    "anonym.categorical_columns\n",
    "# ... ['name', 'web', 'email', 'ssn']\n",
    "available_methods('categorical') \n",
    "# ... categorical_fake\tcategorical_fake_auto\tcategorical_resampling\tcategorical_tokenization\tcategorical_email_masking\n",
    "\n",
    "anonym.anonymize({'name': 'categorical_fake',  # {'column_name': 'method_name'}\n",
    "                  'age': 'numeric_noise',\n",
    "                  'birthdate': 'datetime_noise',\n",
    "                  'salary': 'numeric_rounding',\n",
    "                  'web': 'categorical_tokenization', \n",
    "                  'email':'categorical_email_masking', \n",
    "                  'ssn': 'column_suppression'})\n",
    "print(anonym.to_df())"
   ]
  }
 ],
 "metadata": {
  "kernelspec": {
   "display_name": "Python 3",
   "language": "python",
   "name": "python3"
  },
  "language_info": {
   "codemirror_mode": {
    "name": "ipython",
    "version": 3
   },
   "file_extension": ".py",
   "mimetype": "text/x-python",
   "name": "python",
   "nbconvert_exporter": "python",
   "pygments_lexer": "ipython3",
   "version": "3.10.11"
  },
  "orig_nbformat": 4
 },
 "nbformat": 4,
 "nbformat_minor": 2
}
