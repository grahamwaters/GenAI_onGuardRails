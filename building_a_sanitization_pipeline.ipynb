{
 "cells": [
  {
   "cell_type": "code",
   "execution_count": 28,
   "metadata": {},
   "outputs": [
    {
     "name": "stdout",
     "output_type": "stream",
     "text": [
      "\u001b[31mERROR: Could not install packages due to an OSError: [Errno 28] No space left on device\n",
      "\u001b[0m\u001b[31m\n",
      "\u001b[0mCollecting en-core-web-lg==3.5.0\n",
      "\u001b[31mERROR: Could not install packages due to an OSError: [Errno 28] No space left on device: '/var/folders/ly/b_rl0knd27n_wy81pqqqp8q40000gn/T/tmpxlhnr4z0'\n",
      "\u001b[0m\u001b[31m\n",
      "\u001b[0mfatal: destination path 'open-data-anonimizer' already exists and is not an empty directory.\n",
      "\u001b[31mERROR: Exception:\n",
      "Traceback (most recent call last):\n",
      "  File \"/Users/grahamwaters/Movies/GenAI_onRails/.conda/lib/python3.10/site-packages/pip/_internal/cli/base_command.py\", line 169, in exc_logging_wrapper\n",
      "    status = run_func(*args)\n",
      "  File \"/Users/grahamwaters/Movies/GenAI_onRails/.conda/lib/python3.10/site-packages/pip/_internal/cli/req_command.py\", line 248, in wrapper\n",
      "    return func(self, options, args)\n",
      "  File \"/Users/grahamwaters/Movies/GenAI_onRails/.conda/lib/python3.10/site-packages/pip/_internal/commands/install.py\", line 333, in run\n",
      "    build_tracker = self.enter_context(get_build_tracker())\n",
      "  File \"/Users/grahamwaters/Movies/GenAI_onRails/.conda/lib/python3.10/site-packages/pip/_internal/cli/command_context.py\", line 27, in enter_context\n",
      "    return self._main_context.enter_context(context_provider)\n",
      "  File \"/Users/grahamwaters/Movies/GenAI_onRails/.conda/lib/python3.10/contextlib.py\", line 492, in enter_context\n",
      "    result = _cm_type.__enter__(cm)\n",
      "  File \"/Users/grahamwaters/Movies/GenAI_onRails/.conda/lib/python3.10/contextlib.py\", line 135, in __enter__\n",
      "    return next(self.gen)\n",
      "  File \"/Users/grahamwaters/Movies/GenAI_onRails/.conda/lib/python3.10/site-packages/pip/_internal/operations/build/build_tracker.py\", line 46, in get_build_tracker\n",
      "    root = ctx.enter_context(TempDirectory(kind=\"build-tracker\")).path\n",
      "  File \"/Users/grahamwaters/Movies/GenAI_onRails/.conda/lib/python3.10/site-packages/pip/_internal/utils/temp_dir.py\", line 125, in __init__\n",
      "    path = self._create(kind)\n",
      "  File \"/Users/grahamwaters/Movies/GenAI_onRails/.conda/lib/python3.10/site-packages/pip/_internal/utils/temp_dir.py\", line 164, in _create\n",
      "    path = os.path.realpath(tempfile.mkdtemp(prefix=f\"pip-{kind}-\"))\n",
      "  File \"/Users/grahamwaters/Movies/GenAI_onRails/.conda/lib/python3.10/tempfile.py\", line 357, in mkdtemp\n",
      "    prefix, suffix, dir, output_type = _sanitize_params(prefix, suffix, dir)\n",
      "  File \"/Users/grahamwaters/Movies/GenAI_onRails/.conda/lib/python3.10/tempfile.py\", line 126, in _sanitize_params\n",
      "    dir = gettempdir()\n",
      "  File \"/Users/grahamwaters/Movies/GenAI_onRails/.conda/lib/python3.10/tempfile.py\", line 299, in gettempdir\n",
      "    return _os.fsdecode(_gettempdir())\n",
      "  File \"/Users/grahamwaters/Movies/GenAI_onRails/.conda/lib/python3.10/tempfile.py\", line 292, in _gettempdir\n",
      "    tempdir = _get_default_tempdir()\n",
      "  File \"/Users/grahamwaters/Movies/GenAI_onRails/.conda/lib/python3.10/tempfile.py\", line 223, in _get_default_tempdir\n",
      "    raise FileNotFoundError(_errno.ENOENT,\n",
      "FileNotFoundError: [Errno 2] No usable temporary directory found in ['/var/folders/ly/b_rl0knd27n_wy81pqqqp8q40000gn/T/', '/tmp', '/var/tmp', '/usr/tmp', '/Users/grahamwaters/Movies/GenAI_onRails']\u001b[0m\u001b[31m\n",
      "\u001b[0mmake: *** No rule to make target `bootstrap'.  Stop.\n",
      "\u001b[31mERROR: Exception:\n",
      "Traceback (most recent call last):\n",
      "  File \"/Users/grahamwaters/Movies/GenAI_onRails/.conda/lib/python3.10/site-packages/pip/_internal/cli/base_command.py\", line 169, in exc_logging_wrapper\n",
      "    status = run_func(*args)\n",
      "  File \"/Users/grahamwaters/Movies/GenAI_onRails/.conda/lib/python3.10/site-packages/pip/_internal/cli/req_command.py\", line 248, in wrapper\n",
      "    return func(self, options, args)\n",
      "  File \"/Users/grahamwaters/Movies/GenAI_onRails/.conda/lib/python3.10/site-packages/pip/_internal/commands/install.py\", line 333, in run\n",
      "    build_tracker = self.enter_context(get_build_tracker())\n",
      "  File \"/Users/grahamwaters/Movies/GenAI_onRails/.conda/lib/python3.10/site-packages/pip/_internal/cli/command_context.py\", line 27, in enter_context\n",
      "    return self._main_context.enter_context(context_provider)\n",
      "  File \"/Users/grahamwaters/Movies/GenAI_onRails/.conda/lib/python3.10/contextlib.py\", line 492, in enter_context\n",
      "    result = _cm_type.__enter__(cm)\n",
      "  File \"/Users/grahamwaters/Movies/GenAI_onRails/.conda/lib/python3.10/contextlib.py\", line 135, in __enter__\n",
      "    return next(self.gen)\n",
      "  File \"/Users/grahamwaters/Movies/GenAI_onRails/.conda/lib/python3.10/site-packages/pip/_internal/operations/build/build_tracker.py\", line 46, in get_build_tracker\n",
      "    root = ctx.enter_context(TempDirectory(kind=\"build-tracker\")).path\n",
      "  File \"/Users/grahamwaters/Movies/GenAI_onRails/.conda/lib/python3.10/site-packages/pip/_internal/utils/temp_dir.py\", line 125, in __init__\n",
      "    path = self._create(kind)\n",
      "  File \"/Users/grahamwaters/Movies/GenAI_onRails/.conda/lib/python3.10/site-packages/pip/_internal/utils/temp_dir.py\", line 164, in _create\n",
      "    path = os.path.realpath(tempfile.mkdtemp(prefix=f\"pip-{kind}-\"))\n",
      "  File \"/Users/grahamwaters/Movies/GenAI_onRails/.conda/lib/python3.10/tempfile.py\", line 357, in mkdtemp\n",
      "    prefix, suffix, dir, output_type = _sanitize_params(prefix, suffix, dir)\n",
      "  File \"/Users/grahamwaters/Movies/GenAI_onRails/.conda/lib/python3.10/tempfile.py\", line 126, in _sanitize_params\n",
      "    dir = gettempdir()\n",
      "  File \"/Users/grahamwaters/Movies/GenAI_onRails/.conda/lib/python3.10/tempfile.py\", line 299, in gettempdir\n",
      "    return _os.fsdecode(_gettempdir())\n",
      "  File \"/Users/grahamwaters/Movies/GenAI_onRails/.conda/lib/python3.10/tempfile.py\", line 292, in _gettempdir\n",
      "    tempdir = _get_default_tempdir()\n",
      "  File \"/Users/grahamwaters/Movies/GenAI_onRails/.conda/lib/python3.10/tempfile.py\", line 223, in _get_default_tempdir\n",
      "    raise FileNotFoundError(_errno.ENOENT,\n",
      "FileNotFoundError: [Errno 2] No usable temporary directory found in ['/var/folders/ly/b_rl0knd27n_wy81pqqqp8q40000gn/T/', '/tmp', '/var/tmp', '/usr/tmp', '/Users/grahamwaters/Movies/GenAI_onRails']\u001b[0m\u001b[31m\n",
      "\u001b[0m"
     ]
    }
   ],
   "source": [
    "!pip install html_sanitizer --quiet\n",
    "!pip install validators --quiet\n",
    "!pip install nltk --quiet\n",
    "!pip install faker --quiet\n",
    "!pip install presidio_analyzer --quiet\n",
    "!pip install langdetect --quiet\n",
    "!pip install spacy --quiet\n",
    "# !pip install presidio-analyzer\n",
    "!pip install anonympy --quiet\n",
    "!python -m spacy download en_core_web_lg\n",
    "!python setup.py "
   ]
  },
  {
   "cell_type": "markdown",
   "metadata": {},
   "source": [
    "from presidio_analyzer import AnalyzerEngine\n",
    "\n",
    "# Make sure we have downloaded the spaCy model\n",
    "import spacy\n",
    "try:\n",
    "    spacy.load('en_core_web_lg')\n",
    "except OSError:\n",
    "    import os\n",
    "    os.system('python -m spacy download en_core_web_lg')\n",
    "    spacy.load('en_core_web_lg')\n",
    "# Set up the engine, loads the NLP module (spaCy model by default) and other PII recognizers\n",
    "analyzer = AnalyzerEngine()\n",
    "\n",
    "# Call analyzer to get results\n",
    "results = analyzer.analyze(text=\"My phone number is 212-555-5555\",\n",
    "                           entities=[\"PHONE_NUMBER\"],\n",
    "                           language='en')\n",
    "print(results)"
   ]
  },
  {
   "cell_type": "code",
   "execution_count": 26,
   "metadata": {},
   "outputs": [
    {
     "name": "stdout",
     "output_type": "stream",
     "text": [
      "Collecting anonympy\n",
      "  Using cached anonympy-0.3.7.tar.gz (5.8 MB)\n",
      "  Preparing metadata (setup.py) ... \u001b[?25lerror\n",
      "  \u001b[1;31merror\u001b[0m: \u001b[1msubprocess-exited-with-error\u001b[0m\n",
      "  \n",
      "  \u001b[31m×\u001b[0m \u001b[32mpython setup.py egg_info\u001b[0m did not run successfully.\n",
      "  \u001b[31m│\u001b[0m exit code: \u001b[1;36m1\u001b[0m\n",
      "  \u001b[31m╰─>\u001b[0m \u001b[31m[1 lines of output]\u001b[0m\n",
      "  \u001b[31m   \u001b[0m error in anonympy setup command: 'python_requires' must be a string containing valid version specifiers; Invalid specifier: '>=3.6*'\n",
      "  \u001b[31m   \u001b[0m \u001b[31m[end of output]\u001b[0m\n",
      "  \n",
      "  \u001b[1;35mnote\u001b[0m: This error originates from a subprocess, and is likely not a problem with pip.\n",
      "\u001b[?25h\u001b[1;31merror\u001b[0m: \u001b[1mmetadata-generation-failed\u001b[0m\n",
      "\n",
      "\u001b[31m×\u001b[0m Encountered error while generating package metadata.\n",
      "\u001b[31m╰─>\u001b[0m See above for output.\n",
      "\n",
      "\u001b[1;35mnote\u001b[0m: This is an issue with the package mentioned above, not pip.\n",
      "\u001b[1;36mhint\u001b[0m: See above for details.\n"
     ]
    }
   ],
   "source": [
    "!pip install cape-privacy==0.3.0 --no-deps "
   ]
  },
  {
   "cell_type": "code",
   "execution_count": 24,
   "metadata": {},
   "outputs": [
    {
     "ename": "ModuleNotFoundError",
     "evalue": "No module named 'anonympy'",
     "output_type": "error",
     "traceback": [
      "\u001b[0;31m---------------------------------------------------------------------------\u001b[0m",
      "\u001b[0;31mModuleNotFoundError\u001b[0m                       Traceback (most recent call last)",
      "Cell \u001b[0;32mIn[24], line 7\u001b[0m\n\u001b[1;32m      5\u001b[0m \u001b[39mfrom\u001b[39;00m \u001b[39mlangdetect\u001b[39;00m \u001b[39mimport\u001b[39;00m detect\n\u001b[1;32m      6\u001b[0m \u001b[39mimport\u001b[39;00m \u001b[39mspacy\u001b[39;00m\n\u001b[0;32m----> 7\u001b[0m \u001b[39mfrom\u001b[39;00m \u001b[39manonympy\u001b[39;00m\u001b[39m.\u001b[39;00m\u001b[39mpandas\u001b[39;00m \u001b[39mimport\u001b[39;00m dfAnonymizer\n\u001b[1;32m      8\u001b[0m \u001b[39mfrom\u001b[39;00m \u001b[39manonympy\u001b[39;00m\u001b[39m.\u001b[39;00m\u001b[39mpandas\u001b[39;00m\u001b[39m.\u001b[39;00m\u001b[39mutils_pandas\u001b[39;00m \u001b[39mimport\u001b[39;00m load_dataset\n\u001b[1;32m      9\u001b[0m \u001b[39m#todo make a fake dataset with fake names using faker\u001b[39;00m\n",
      "\u001b[0;31mModuleNotFoundError\u001b[0m: No module named 'anonympy'"
     ]
    }
   ],
   "source": [
    "from html_sanitizer import Sanitizer\n",
    "from validators import url\n",
    "from faker import Faker\n",
    "from presidio_analyzer import AnalyzerEngine, PatternRecognizer\n",
    "from langdetect import detect\n",
    "import spacy\n",
    "from anonympy.pandas import dfAnonymizer\n",
    "from anonympy.pandas.utils_pandas import load_dataset\n",
    "#todo make a fake dataset with fake names using faker\n",
    "anonym = dfAnonymizer(df)\n",
    "anonym.anonymize_dataframe(inplace = False)  # inplace = False to return a new dataframe, inplace = True to modify the original dataframe\n"
   ]
  },
  {
   "cell_type": "code",
   "execution_count": 23,
   "metadata": {},
   "outputs": [
    {
     "ename": "ModuleNotFoundError",
     "evalue": "No module named 'anonympy'",
     "output_type": "error",
     "traceback": [
      "\u001b[0;31m---------------------------------------------------------------------------\u001b[0m",
      "\u001b[0;31mModuleNotFoundError\u001b[0m                       Traceback (most recent call last)",
      "Cell \u001b[0;32mIn[23], line 2\u001b[0m\n\u001b[1;32m      1\u001b[0m \u001b[39m# Or applying a specific anonymization technique to a column\u001b[39;00m\n\u001b[0;32m----> 2\u001b[0m \u001b[39mfrom\u001b[39;00m \u001b[39manonympy\u001b[39;00m\u001b[39m.\u001b[39;00m\u001b[39mpandas\u001b[39;00m\u001b[39m.\u001b[39;00m\u001b[39mutils_pandas\u001b[39;00m \u001b[39mimport\u001b[39;00m available_methods\n\u001b[1;32m      4\u001b[0m anonym\u001b[39m.\u001b[39mcategorical_columns\n\u001b[1;32m      5\u001b[0m \u001b[39m# ... ['name', 'web', 'email', 'ssn']\u001b[39;00m\n",
      "\u001b[0;31mModuleNotFoundError\u001b[0m: No module named 'anonympy'"
     ]
    }
   ],
   "source": [
    "# Or applying a specific anonymization technique to a column\n",
    "from anonympy.pandas.utils_pandas import available_methods\n",
    "\n",
    "anonym.categorical_columns\n",
    "# ... ['name', 'web', 'email', 'ssn']\n",
    "available_methods('categorical') \n",
    "# ... categorical_fake\tcategorical_fake_auto\tcategorical_resampling\tcategorical_tokenization\tcategorical_email_masking\n",
    "\n",
    "anonym.anonymize({'name': 'categorical_fake',  # {'column_name': 'method_name'}\n",
    "                  'age': 'numeric_noise',\n",
    "                  'birthdate': 'datetime_noise',\n",
    "                  'salary': 'numeric_rounding',\n",
    "                  'web': 'categorical_tokenization', \n",
    "                  'email':'categorical_email_masking', \n",
    "                  'ssn': 'column_suppression'})\n",
    "print(anonym.to_df())"
   ]
  }
 ],
 "metadata": {
  "kernelspec": {
   "display_name": "Python 3",
   "language": "python",
   "name": "python3"
  },
  "language_info": {
   "codemirror_mode": {
    "name": "ipython",
    "version": 3
   },
   "file_extension": ".py",
   "mimetype": "text/x-python",
   "name": "python",
   "nbconvert_exporter": "python",
   "pygments_lexer": "ipython3",
   "version": "3.10.11"
  },
  "orig_nbformat": 4
 },
 "nbformat": 4,
 "nbformat_minor": 2
}
